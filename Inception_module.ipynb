{
  "nbformat": 4,
  "nbformat_minor": 0,
  "metadata": {
    "colab": {
      "name": "Inception_module.ipynb",
      "provenance": [],
      "authorship_tag": "ABX9TyMk5KfthCIk/1uybwEdNGL3",
      "include_colab_link": true
    },
    "kernelspec": {
      "name": "python3",
      "display_name": "Python 3"
    },
    "language_info": {
      "name": "python"
    }
  },
  "cells": [
    {
      "cell_type": "markdown",
      "metadata": {
        "id": "view-in-github",
        "colab_type": "text"
      },
      "source": [
        "<a href=\"https://colab.research.google.com/github/Whaleman0423/Deep_Learning_model/blob/main/Inception_module.ipynb\" target=\"_parent\"><img src=\"https://colab.research.google.com/assets/colab-badge.svg\" alt=\"Open In Colab\"/></a>"
      ]
    },
    {
      "cell_type": "markdown",
      "metadata": {
        "id": "_OWMIOoqctNk"
      },
      "source": [
        "# Inception module :"
      ]
    },
    {
      "cell_type": "code",
      "metadata": {
        "id": "u49mtjBLdHHo"
      },
      "source": [
        "def inception(x, nb_filter):   # x => np.array \n",
        "  branch_1x1 = Conv2D(nb_filter, (1,1), padding='same', activation='relu')(x)\n",
        "\n",
        "  branch_3x3 = Conv2D(nb_filter, (1,1), padding='same', activation='relu')(x)\n",
        "  branch_3x3 = Conv2D(nb_filter, (3,3), padding='same', activation='relu')(branch_3x3)\n",
        "\n",
        "  branch_5x5 = Conv2D(nb_filter, (1,1), padding='same', activation='relu')(x)\n",
        "  branch_5x5 = Conv2D(nb_filter, (5,5), padding='same', activation='relu')(branch_5x5)\n",
        "\n",
        "  branch_pool = MaxPooling2D(pool_size=(3,3), strides=(1,1), padding='same')(x)\n",
        "  branch_pool = Conv2D(nb_filter, (1,1), padding='same', activation=\"relu\")(branch_pool)\n",
        "\n",
        "  x = concatenate([branch_1x1, branch_3x3, branch5x5, branch_pool], axis=-1)\n",
        "\n",
        "  return x"
      ],
      "execution_count": 2,
      "outputs": []
    }
  ]
}