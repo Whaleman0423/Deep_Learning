{
  "nbformat": 4,
  "nbformat_minor": 0,
  "metadata": {
    "colab": {
      "name": "CNN_Cifar10_tf.keras.ipynb",
      "provenance": [],
      "authorship_tag": "ABX9TyPsd1YJf+v0sJoeru8PTzZu",
      "include_colab_link": true
    },
    "kernelspec": {
      "name": "python3",
      "display_name": "Python 3"
    },
    "language_info": {
      "name": "python"
    },
    "accelerator": "GPU"
  },
  "cells": [
    {
      "cell_type": "markdown",
      "metadata": {
        "id": "view-in-github",
        "colab_type": "text"
      },
      "source": [
        "<a href=\"https://colab.research.google.com/github/Whaleman0423/Deep_Learning_model/blob/main/CNN_Cifar10_tf_keras.ipynb\" target=\"_parent\"><img src=\"https://colab.research.google.com/assets/colab-badge.svg\" alt=\"Open In Colab\"/></a>"
      ]
    },
    {
      "cell_type": "code",
      "metadata": {
        "id": "uEvGuminjfMJ"
      },
      "source": [
        "from tensorflow.keras import datasets, models, layers, utils, losses, optimizers\n",
        "import numpy as np\n",
        "import matplotlib.pyplot as plt"
      ],
      "execution_count": 1,
      "outputs": []
    },
    {
      "cell_type": "code",
      "metadata": {
        "id": "2Aha7A0lkoQA"
      },
      "source": [
        "num_classes = 10\n",
        "img_size = 32"
      ],
      "execution_count": 2,
      "outputs": []
    },
    {
      "cell_type": "markdown",
      "metadata": {
        "id": "KaS8U7ffkuIn"
      },
      "source": [
        "#####Load Dataset\n",
        "#####https://www.cs.toronto.edu/~kriz/cifar.html"
      ]
    },
    {
      "cell_type": "code",
      "metadata": {
        "colab": {
          "base_uri": "https://localhost:8080/"
        },
        "id": "aG1_zS1Zk5Qs",
        "outputId": "37f0bd59-cd12-4dbf-b1f6-a3ac9b2aa192"
      },
      "source": [
        "(x_train, y_train), (x_val, y_val) = datasets.cifar10.load_data()"
      ],
      "execution_count": 3,
      "outputs": [
        {
          "output_type": "stream",
          "name": "stdout",
          "text": [
            "Downloading data from https://www.cs.toronto.edu/~kriz/cifar-10-python.tar.gz\n",
            "170500096/170498071 [==============================] - 4s 0us/step\n",
            "170508288/170498071 [==============================] - 4s 0us/step\n"
          ]
        }
      ]
    },
    {
      "cell_type": "code",
      "metadata": {
        "colab": {
          "base_uri": "https://localhost:8080/",
          "height": 317
        },
        "id": "8zFjNE4TlKrB",
        "outputId": "86486484-3957-4cb7-fb4e-96c3635a2937"
      },
      "source": [
        "trans = (\"airplane\", \"automobile\", \"bird\", \"cat\", \"deer\", \"dog\", \"frog\", \"horse\", \"ship\", \"truck\")\n",
        "\n",
        "idx = np.random.randint(x_train.shape[0])\n",
        "print(\"index\", idx)\n",
        "img, label = x_train[idx], y_train[idx]\n",
        "label = int(label)\n",
        "print('class : ', trans[label])\n",
        "plt.imshow(img)"
      ],
      "execution_count": 4,
      "outputs": [
        {
          "output_type": "stream",
          "name": "stdout",
          "text": [
            "index 31257\n",
            "class :  frog\n"
          ]
        },
        {
          "output_type": "execute_result",
          "data": {
            "text/plain": [
              "<matplotlib.image.AxesImage at 0x7f2b757aff90>"
            ]
          },
          "metadata": {},
          "execution_count": 4
        },
        {
          "output_type": "display_data",
          "data": {
            "image/png": "[encoded data removed]",
            "text/plain": [
              "<Figure size 432x288 with 1 Axes>"
            ]
          },
          "metadata": {
            "needs_background": "light"
          }
        }
      ]
    },
    {
      "cell_type": "code",
      "metadata": {
        "colab": {
          "base_uri": "https://localhost:8080/"
        },
        "id": "AWPoz-5alXkV",
        "outputId": "fa008ed7-5b73-4d68-bace-24aef9d208aa"
      },
      "source": [
        "x_train.shape  # 看一下長怎樣"
      ],
      "execution_count": 5,
      "outputs": [
        {
          "output_type": "execute_result",
          "data": {
            "text/plain": [
              "(50000, 32, 32, 3)"
            ]
          },
          "metadata": {},
          "execution_count": 5
        }
      ]
    },
    {
      "cell_type": "code",
      "metadata": {
        "colab": {
          "base_uri": "https://localhost:8080/"
        },
        "id": "IGfqBvFbl2Tj",
        "outputId": "d255b3c3-36bc-4bff-c2cb-99eff248cd8b"
      },
      "source": [
        "# x_train[0].shape, x_train[0],\n",
        "# np.max(x_train[0]), y_train[0]  ## 看一下長怎樣\n",
        "y_train"
      ],
      "execution_count": 6,
      "outputs": [
        {
          "output_type": "execute_result",
          "data": {
            "text/plain": [
              "array([[6],\n",
              "       [9],\n",
              "       [9],\n",
              "       ...,\n",
              "       [9],\n",
              "       [1],\n",
              "       [1]], dtype=uint8)"
            ]
          },
          "metadata": {},
          "execution_count": 6
        }
      ]
    },
    {
      "cell_type": "markdown",
      "metadata": {
        "id": "rjSksRdympG0"
      },
      "source": [
        "####Preprocess 預處理"
      ]
    },
    {
      "cell_type": "code",
      "metadata": {
        "colab": {
          "base_uri": "https://localhost:8080/"
        },
        "id": "vB7tQNG8mvJQ",
        "outputId": "24cf2a71-757f-4cd6-fc9e-cefbee0030d2"
      },
      "source": [
        "# Normalization: 0~1 or -1~1\n",
        "x_train_p = x_train / 255.\n",
        "x_val_p = x_val / 255.\n",
        "# x_train_p = x_train_p.astype('float32')\n",
        "# x_val_p = x_val_p.astype('float32')\n",
        "# # one-hot encoding \n",
        "# y_train = utils.to_categorical(y_train, num_classes=num_classes)\n",
        "# y_val = utils.to_categorical(y_val, num_classes=num_classes)\n",
        "# print(y_train[0], end='\\n')\n",
        "\n",
        "\n",
        "# 改用 SparseCategoricalCrossentropy \n",
        "# 不用 one-hot-encoding\n",
        "# y_train = np.array(y_train).reshape((50000,)).astype(\"float32\")\n",
        "# y_val = np.array(y_val).reshape((10000,)).astype(\"float32\")\n",
        "\n",
        "x_train.shape, x_val_p.shape, y_train.shape, y_val.shape\n"
      ],
      "execution_count": 7,
      "outputs": [
        {
          "output_type": "execute_result",
          "data": {
            "text/plain": [
              "((50000, 32, 32, 3), (10000, 32, 32, 3), (50000, 1), (10000, 1))"
            ]
          },
          "metadata": {},
          "execution_count": 7
        }
      ]
    },
    {
      "cell_type": "code",
      "metadata": {
        "id": "U1-w4MgyovtK"
      },
      "source": [
        "inputs = layers.Input(shape=(img_size, img_size, 3))\n",
        "x = layers.Conv2D(filters=32, kernel_size=3, activation='relu', padding='same')(inputs)\n",
        "x = layers.Conv2D(filters=32, kernel_size=3, activation='relu', padding='same')(x)\n",
        "x = layers.MaxPooling2D(2)(x)\n",
        "\n",
        "x = layers.Conv2D(filters=64, kernel_size=3, activation='relu', padding='same')(x)\n",
        "x = layers.Conv2D(filters=64, kernel_size=3, activation='relu', padding='same')(x)\n",
        "x = layers.MaxPooling2D(2)(x)\n",
        "\n",
        "x = layers.Flatten()(x)   # 攤平\n",
        "x = layers.Dense(512, activation='relu')(x)\n",
        "prediction = layers.Dense(num_classes, activation='softmax')(x)\n",
        "\n",
        "model = models.Model(inputs=inputs, outputs=prediction)"
      ],
      "execution_count": 8,
      "outputs": []
    },
    {
      "cell_type": "code",
      "metadata": {
        "colab": {
          "base_uri": "https://localhost:8080/"
        },
        "id": "exg0DciHxTqB",
        "outputId": "b1043767-f06e-4887-eceb-8b1b5bea6bf7"
      },
      "source": [
        "model.summary()"
      ],
      "execution_count": 9,
      "outputs": [
        {
          "output_type": "stream",
          "name": "stdout",
          "text": [
            "Model: \"model\"\n",
            "_________________________________________________________________\n",
            "Layer (type)                 Output Shape              Param #   \n",
            "=================================================================\n",
            "input_1 (InputLayer)         [(None, 32, 32, 3)]       0         \n",
            "_________________________________________________________________\n",
            "conv2d (Conv2D)              (None, 32, 32, 32)        896       \n",
            "_________________________________________________________________\n",
            "conv2d_1 (Conv2D)            (None, 32, 32, 32)        9248      \n",
            "_________________________________________________________________\n",
            "max_pooling2d (MaxPooling2D) (None, 16, 16, 32)        0         \n",
            "_________________________________________________________________\n",
            "conv2d_2 (Conv2D)            (None, 16, 16, 64)        18496     \n",
            "_________________________________________________________________\n",
            "conv2d_3 (Conv2D)            (None, 16, 16, 64)        36928     \n",
            "_________________________________________________________________\n",
            "max_pooling2d_1 (MaxPooling2 (None, 8, 8, 64)          0         \n",
            "_________________________________________________________________\n",
            "flatten (Flatten)            (None, 4096)              0         \n",
            "_________________________________________________________________\n",
            "dense (Dense)                (None, 512)               2097664   \n",
            "_________________________________________________________________\n",
            "dense_1 (Dense)              (None, 10)                5130      \n",
            "=================================================================\n",
            "Total params: 2,168,362\n",
            "Trainable params: 2,168,362\n",
            "Non-trainable params: 0\n",
            "_________________________________________________________________\n"
          ]
        }
      ]
    },
    {
      "cell_type": "code",
      "metadata": {
        "colab": {
          "base_uri": "https://localhost:8080/"
        },
        "id": "nGrHS1G7xYS3",
        "outputId": "eb608b89-96df-4b8c-8071-bc37793a608c"
      },
      "source": [
        "print(y_train[0:1])   # 訓練前\n",
        "model(x_train_p[0:1])"
      ],
      "execution_count": 10,
      "outputs": [
        {
          "output_type": "stream",
          "name": "stdout",
          "text": [
            "[[6]]\n"
          ]
        },
        {
          "output_type": "execute_result",
          "data": {
            "text/plain": [
              "<tf.Tensor: shape=(1, 10), dtype=float32, numpy=\n",
              "array([[0.09811598, 0.09669401, 0.09731303, 0.10210061, 0.10469291,\n",
              "        0.09668382, 0.10463715, 0.0976261 , 0.10453603, 0.09760041]],\n",
              "      dtype=float32)>"
            ]
          },
          "metadata": {},
          "execution_count": 10
        }
      ]
    },
    {
      "cell_type": "code",
      "metadata": {
        "id": "epxNKiv7yN9N"
      },
      "source": [
        "model.compile(\n",
        "        loss = losses.SparseCategoricalCrossentropy(),\n",
        "        optimizer = optimizers.SGD(),\n",
        "        metrics = ['acc']\n",
        ")"
      ],
      "execution_count": 11,
      "outputs": []
    },
    {
      "cell_type": "code",
      "metadata": {
        "id": "ljX_2kwyFJQZ",
        "outputId": "5e29fe03-3c6f-4e20-92c7-3f8b16dfa7f3",
        "colab": {
          "base_uri": "https://localhost:8080/"
        }
      },
      "source": [
        "logs = model.fit(x_train_p, y_train,\n",
        "                 batch_size=64,\n",
        "                 epochs=10,\n",
        "                 verbose=1,\n",
        "                 validation_data=(x_val_p, y_val))"
      ],
      "execution_count": 12,
      "outputs": [
        {
          "output_type": "stream",
          "name": "stdout",
          "text": [
            "Epoch 1/10\n",
            "782/782 [==============================] - 15s 16ms/step - loss: 2.0781 - acc: 0.2534 - val_loss: 1.8969 - val_acc: 0.3225\n",
            "Epoch 2/10\n",
            "782/782 [==============================] - 12s 15ms/step - loss: 1.7382 - acc: 0.3817 - val_loss: 1.6339 - val_acc: 0.4144\n",
            "Epoch 3/10\n",
            "782/782 [==============================] - 12s 16ms/step - loss: 1.5331 - acc: 0.4575 - val_loss: 1.4829 - val_acc: 0.4609\n",
            "Epoch 4/10\n",
            "782/782 [==============================] - 12s 16ms/step - loss: 1.3921 - acc: 0.5069 - val_loss: 1.4353 - val_acc: 0.4820\n",
            "Epoch 5/10\n",
            "782/782 [==============================] - 12s 16ms/step - loss: 1.2969 - acc: 0.5400 - val_loss: 1.3659 - val_acc: 0.5058\n",
            "Epoch 6/10\n",
            "782/782 [==============================] - 12s 16ms/step - loss: 1.2186 - acc: 0.5702 - val_loss: 1.3165 - val_acc: 0.5313\n",
            "Epoch 7/10\n",
            "782/782 [==============================] - 12s 16ms/step - loss: 1.1417 - acc: 0.5994 - val_loss: 1.3638 - val_acc: 0.5198\n",
            "Epoch 8/10\n",
            "782/782 [==============================] - 12s 16ms/step - loss: 1.0715 - acc: 0.6243 - val_loss: 1.2195 - val_acc: 0.5767\n",
            "Epoch 9/10\n",
            "782/782 [==============================] - 12s 16ms/step - loss: 0.9992 - acc: 0.6508 - val_loss: 1.1810 - val_acc: 0.5912\n",
            "Epoch 10/10\n",
            "782/782 [==============================] - 13s 16ms/step - loss: 0.9316 - acc: 0.6766 - val_loss: 1.1787 - val_acc: 0.5917\n"
          ]
        }
      ]
    },
    {
      "cell_type": "markdown",
      "metadata": {
        "id": "jyIrRuWVPuLI"
      },
      "source": [
        "####Logs :"
      ]
    },
    {
      "cell_type": "code",
      "metadata": {
        "id": "hweD6zTcPZlt",
        "outputId": "dc6118ae-4a4c-4b04-c0f5-cb4acb4f04b0",
        "colab": {
          "base_uri": "https://localhost:8080/"
        }
      },
      "source": [
        "history = logs.history\n",
        "history"
      ],
      "execution_count": 15,
      "outputs": [
        {
          "output_type": "execute_result",
          "data": {
            "text/plain": [
              "{'acc': [0.25336000323295593,\n",
              "  0.3817000091075897,\n",
              "  0.4575200080871582,\n",
              "  0.5069199800491333,\n",
              "  0.5400400161743164,\n",
              "  0.5701799988746643,\n",
              "  0.5994200110435486,\n",
              "  0.6243199706077576,\n",
              "  0.6507800221443176,\n",
              "  0.6765599846839905],\n",
              " 'loss': [2.0780584812164307,\n",
              "  1.7382296323776245,\n",
              "  1.5331039428710938,\n",
              "  1.3920979499816895,\n",
              "  1.296854019165039,\n",
              "  1.2185862064361572,\n",
              "  1.141708493232727,\n",
              "  1.0714709758758545,\n",
              "  0.9992090463638306,\n",
              "  0.9315725564956665],\n",
              " 'val_acc': [0.32249999046325684,\n",
              "  0.41440001130104065,\n",
              "  0.4609000086784363,\n",
              "  0.4819999933242798,\n",
              "  0.5058000087738037,\n",
              "  0.5313000082969666,\n",
              "  0.5198000073432922,\n",
              "  0.57669997215271,\n",
              "  0.5911999940872192,\n",
              "  0.59170001745224],\n",
              " 'val_loss': [1.8968812227249146,\n",
              "  1.6338775157928467,\n",
              "  1.4829498529434204,\n",
              "  1.4353448152542114,\n",
              "  1.3659203052520752,\n",
              "  1.3165398836135864,\n",
              "  1.3638126850128174,\n",
              "  1.2194596529006958,\n",
              "  1.1809780597686768,\n",
              "  1.1786878108978271]}"
            ]
          },
          "metadata": {},
          "execution_count": 15
        }
      ]
    },
    {
      "cell_type": "code",
      "metadata": {
        "id": "ktY0a6IGP37K",
        "outputId": "10556104-ab50-4974-9b54-599f4e35d5f5",
        "colab": {
          "base_uri": "https://localhost:8080/",
          "height": 298
        }
      },
      "source": [
        "plt.plot(history['acc'])\n",
        "plt.plot(history['val_acc'])\n",
        "plt.legend(['acc', 'val_acc'])\n",
        "plt.title('acc')"
      ],
      "execution_count": 17,
      "outputs": [
        {
          "output_type": "execute_result",
          "data": {
            "text/plain": [
              "Text(0.5, 1.0, 'acc')"
            ]
          },
          "metadata": {},
          "execution_count": 17
        },
        {
          "output_type": "display_data",
          "data": {
            "image/png": "[encoded data removed]",
            "text/plain": [
              "<Figure size 432x288 with 1 Axes>"
            ]
          },
          "metadata": {
            "needs_background": "light"
          }
        }
      ]
    },
    {
      "cell_type": "code",
      "metadata": {
        "id": "ypc6x-wsUlB2",
        "outputId": "a0fce811-07a7-438b-e18e-64cf9923dff3",
        "colab": {
          "base_uri": "https://localhost:8080/",
          "height": 298
        }
      },
      "source": [
        "plt.plot(history['loss'])\n",
        "plt.plot(history['val_loss'])\n",
        "plt.legend(['loss', 'val_loss'])\n",
        "plt.title('loss')"
      ],
      "execution_count": 18,
      "outputs": [
        {
          "output_type": "execute_result",
          "data": {
            "text/plain": [
              "Text(0.5, 1.0, 'loss')"
            ]
          },
          "metadata": {},
          "execution_count": 18
        },
        {
          "output_type": "display_data",
          "data": {
            "image/png": "[encoded data removed]",
            "text/plain": [
              "<Figure size 432x288 with 1 Axes>"
            ]
          },
          "metadata": {
            "needs_background": "light"
          }
        }
      ]
    },
    {
      "cell_type": "markdown",
      "metadata": {
        "id": "TcDyAReOU6he"
      },
      "source": [
        "###Metrics :"
      ]
    },
    {
      "cell_type": "code",
      "metadata": {
        "id": "PWL-tw5eVAOo",
        "outputId": "fa3bdfba-6917-4bcd-b449-ff8c23c97189",
        "colab": {
          "base_uri": "https://localhost:8080/"
        }
      },
      "source": [
        "from sklearn.metrics import classification_report, confusion_matrix\n",
        "\n",
        "\n",
        "prediction = model.predict(x_val_p)\n",
        "y_pred = np.argmax(prediction, axis=-1)\n",
        "\n",
        "print(y_true.shape, y_pred.shape)\n",
        "y_pred"
      ],
      "execution_count": 30,
      "outputs": [
        {
          "output_type": "stream",
          "name": "stdout",
          "text": [
            "(10000,) (10000,)\n"
          ]
        },
        {
          "output_type": "execute_result",
          "data": {
            "text/plain": [
              "array([3, 8, 1, ..., 5, 1, 7])"
            ]
          },
          "metadata": {},
          "execution_count": 30
        }
      ]
    },
    {
      "cell_type": "code",
      "metadata": {
        "id": "cvtYeaKkWKaC",
        "outputId": "ff1dcbe4-ed02-4a3f-9f95-2607c7a1222f",
        "colab": {
          "base_uri": "https://localhost:8080/"
        }
      },
      "source": [
        "# classification_report\n",
        "print(classification_report(y_val, y_pred))"
      ],
      "execution_count": 31,
      "outputs": [
        {
          "output_type": "stream",
          "name": "stdout",
          "text": [
            "              precision    recall  f1-score   support\n",
            "\n",
            "           0       0.53      0.74      0.62      1000\n",
            "           1       0.72      0.68      0.70      1000\n",
            "           2       0.60      0.39      0.47      1000\n",
            "           3       0.46      0.42      0.44      1000\n",
            "           4       0.67      0.36      0.47      1000\n",
            "           5       0.55      0.44      0.48      1000\n",
            "           6       0.76      0.57      0.65      1000\n",
            "           7       0.54      0.80      0.65      1000\n",
            "           8       0.74      0.71      0.73      1000\n",
            "           9       0.52      0.80      0.63      1000\n",
            "\n",
            "    accuracy                           0.59     10000\n",
            "   macro avg       0.61      0.59      0.58     10000\n",
            "weighted avg       0.61      0.59      0.58     10000\n",
            "\n"
          ]
        }
      ]
    },
    {
      "cell_type": "code",
      "metadata": {
        "id": "KT07xF0Zgb7K",
        "outputId": "f4002aaa-e66b-4a8d-f9e6-11b8ee69cd7c",
        "colab": {
          "base_uri": "https://localhost:8080/",
          "height": 413
        }
      },
      "source": [
        "import pandas as pd\n",
        "mat = confusion_matrix(y_val, y_pred)\n",
        "\n",
        "pd.DataFrame(\n",
        "        mat,\n",
        "        index=[\"{}(正確)\".format(trans[i]) for i in range(10)],\n",
        "        columns=[\"{}(預測)\".format(trans[i]) for i in range(10)]\n",
        ")"
      ],
      "execution_count": 34,
      "outputs": [
        {
          "output_type": "execute_result",
          "data": {
            "text/html": [
              "<div>\n",
              "<style scoped>\n",
              "    .dataframe tbody tr th:only-of-type {\n",
              "        vertical-align: middle;\n",
              "    }\n",
              "\n",
              "    .dataframe tbody tr th {\n",
              "        vertical-align: top;\n",
              "    }\n",
              "\n",
              "    .dataframe thead th {\n",
              "        text-align: right;\n",
              "    }\n",
              "</style>\n",
              "<table border=\"1\" class=\"dataframe\">\n",
              "  <thead>\n",
              "    <tr style=\"text-align: right;\">\n",
              "      <th></th>\n",
              "      <th>airplane(預測)</th>\n",
              "      <th>automobile(預測)</th>\n",
              "      <th>bird(預測)</th>\n",
              "      <th>cat(預測)</th>\n",
              "      <th>deer(預測)</th>\n",
              "      <th>dog(預測)</th>\n",
              "      <th>frog(預測)</th>\n",
              "      <th>horse(預測)</th>\n",
              "      <th>ship(預測)</th>\n",
              "      <th>truck(預測)</th>\n",
              "    </tr>\n",
              "  </thead>\n",
              "  <tbody>\n",
              "    <tr>\n",
              "      <th>airplane(正確)</th>\n",
              "      <td>739</td>\n",
              "      <td>23</td>\n",
              "      <td>5</td>\n",
              "      <td>6</td>\n",
              "      <td>5</td>\n",
              "      <td>2</td>\n",
              "      <td>6</td>\n",
              "      <td>21</td>\n",
              "      <td>81</td>\n",
              "      <td>112</td>\n",
              "    </tr>\n",
              "    <tr>\n",
              "      <th>automobile(正確)</th>\n",
              "      <td>31</td>\n",
              "      <td>684</td>\n",
              "      <td>3</td>\n",
              "      <td>10</td>\n",
              "      <td>0</td>\n",
              "      <td>1</td>\n",
              "      <td>2</td>\n",
              "      <td>4</td>\n",
              "      <td>30</td>\n",
              "      <td>235</td>\n",
              "    </tr>\n",
              "    <tr>\n",
              "      <th>bird(正確)</th>\n",
              "      <td>179</td>\n",
              "      <td>16</td>\n",
              "      <td>390</td>\n",
              "      <td>67</td>\n",
              "      <td>51</td>\n",
              "      <td>62</td>\n",
              "      <td>48</td>\n",
              "      <td>108</td>\n",
              "      <td>26</td>\n",
              "      <td>53</td>\n",
              "    </tr>\n",
              "    <tr>\n",
              "      <th>cat(正確)</th>\n",
              "      <td>86</td>\n",
              "      <td>19</td>\n",
              "      <td>42</td>\n",
              "      <td>423</td>\n",
              "      <td>33</td>\n",
              "      <td>147</td>\n",
              "      <td>46</td>\n",
              "      <td>123</td>\n",
              "      <td>14</td>\n",
              "      <td>67</td>\n",
              "    </tr>\n",
              "    <tr>\n",
              "      <th>deer(正確)</th>\n",
              "      <td>104</td>\n",
              "      <td>16</td>\n",
              "      <td>91</td>\n",
              "      <td>61</td>\n",
              "      <td>357</td>\n",
              "      <td>52</td>\n",
              "      <td>54</td>\n",
              "      <td>195</td>\n",
              "      <td>31</td>\n",
              "      <td>39</td>\n",
              "    </tr>\n",
              "    <tr>\n",
              "      <th>dog(正確)</th>\n",
              "      <td>57</td>\n",
              "      <td>9</td>\n",
              "      <td>47</td>\n",
              "      <td>194</td>\n",
              "      <td>26</td>\n",
              "      <td>436</td>\n",
              "      <td>19</td>\n",
              "      <td>148</td>\n",
              "      <td>18</td>\n",
              "      <td>46</td>\n",
              "    </tr>\n",
              "    <tr>\n",
              "      <th>frog(正確)</th>\n",
              "      <td>39</td>\n",
              "      <td>27</td>\n",
              "      <td>47</td>\n",
              "      <td>116</td>\n",
              "      <td>33</td>\n",
              "      <td>52</td>\n",
              "      <td>571</td>\n",
              "      <td>46</td>\n",
              "      <td>20</td>\n",
              "      <td>49</td>\n",
              "    </tr>\n",
              "    <tr>\n",
              "      <th>horse(正確)</th>\n",
              "      <td>34</td>\n",
              "      <td>7</td>\n",
              "      <td>12</td>\n",
              "      <td>26</td>\n",
              "      <td>19</td>\n",
              "      <td>39</td>\n",
              "      <td>1</td>\n",
              "      <td>799</td>\n",
              "      <td>7</td>\n",
              "      <td>56</td>\n",
              "    </tr>\n",
              "    <tr>\n",
              "      <th>ship(正確)</th>\n",
              "      <td>99</td>\n",
              "      <td>59</td>\n",
              "      <td>5</td>\n",
              "      <td>9</td>\n",
              "      <td>4</td>\n",
              "      <td>3</td>\n",
              "      <td>1</td>\n",
              "      <td>9</td>\n",
              "      <td>714</td>\n",
              "      <td>97</td>\n",
              "    </tr>\n",
              "    <tr>\n",
              "      <th>truck(正確)</th>\n",
              "      <td>33</td>\n",
              "      <td>96</td>\n",
              "      <td>4</td>\n",
              "      <td>9</td>\n",
              "      <td>1</td>\n",
              "      <td>4</td>\n",
              "      <td>3</td>\n",
              "      <td>22</td>\n",
              "      <td>24</td>\n",
              "      <td>804</td>\n",
              "    </tr>\n",
              "  </tbody>\n",
              "</table>\n",
              "</div>"
            ],
            "text/plain": [
              "                airplane(預測)  automobile(預測)  ...  ship(預測)  truck(預測)\n",
              "airplane(正確)             739              23  ...        81        112\n",
              "automobile(正確)            31             684  ...        30        235\n",
              "bird(正確)                 179              16  ...        26         53\n",
              "cat(正確)                   86              19  ...        14         67\n",
              "deer(正確)                 104              16  ...        31         39\n",
              "dog(正確)                   57               9  ...        18         46\n",
              "frog(正確)                  39              27  ...        20         49\n",
              "horse(正確)                 34               7  ...         7         56\n",
              "ship(正確)                  99              59  ...       714         97\n",
              "truck(正確)                 33              96  ...        24        804\n",
              "\n",
              "[10 rows x 10 columns]"
            ]
          },
          "metadata": {},
          "execution_count": 34
        }
      ]
    },
    {
      "cell_type": "markdown",
      "metadata": {
        "id": "u36FUNA-hSKh"
      },
      "source": [
        "#### Save model"
      ]
    },
    {
      "cell_type": "code",
      "metadata": {
        "id": "eoBctPlZhVdM",
        "outputId": "4e789bff-7d9d-4675-fb21-7e72b89f7175",
        "colab": {
          "base_uri": "https://localhost:8080/"
        }
      },
      "source": [
        "model.save('my_model.h5')\n",
        "model2 = models.load_model(\"my_model.h5\")\n",
        "model2.summary()"
      ],
      "execution_count": 37,
      "outputs": [
        {
          "output_type": "stream",
          "name": "stdout",
          "text": [
            "Model: \"model\"\n",
            "_________________________________________________________________\n",
            "Layer (type)                 Output Shape              Param #   \n",
            "=================================================================\n",
            "input_1 (InputLayer)         [(None, 32, 32, 3)]       0         \n",
            "_________________________________________________________________\n",
            "conv2d (Conv2D)              (None, 32, 32, 32)        896       \n",
            "_________________________________________________________________\n",
            "conv2d_1 (Conv2D)            (None, 32, 32, 32)        9248      \n",
            "_________________________________________________________________\n",
            "max_pooling2d (MaxPooling2D) (None, 16, 16, 32)        0         \n",
            "_________________________________________________________________\n",
            "conv2d_2 (Conv2D)            (None, 16, 16, 64)        18496     \n",
            "_________________________________________________________________\n",
            "conv2d_3 (Conv2D)            (None, 16, 16, 64)        36928     \n",
            "_________________________________________________________________\n",
            "max_pooling2d_1 (MaxPooling2 (None, 8, 8, 64)          0         \n",
            "_________________________________________________________________\n",
            "flatten (Flatten)            (None, 4096)              0         \n",
            "_________________________________________________________________\n",
            "dense (Dense)                (None, 512)               2097664   \n",
            "_________________________________________________________________\n",
            "dense_1 (Dense)              (None, 10)                5130      \n",
            "=================================================================\n",
            "Total params: 2,168,362\n",
            "Trainable params: 2,168,362\n",
            "Non-trainable params: 0\n",
            "_________________________________________________________________\n"
          ]
        }
      ]
    },
    {
      "cell_type": "code",
      "metadata": {
        "id": "i0yctri4hmoo"
      },
      "source": [
        "# 儲存參數\n",
        "model.save_weights(\"weights.h5\")"
      ],
      "execution_count": 47,
      "outputs": []
    },
    {
      "cell_type": "code",
      "metadata": {
        "id": "7jp80pJUjCfF"
      },
      "source": [
        ""
      ],
      "execution_count": null,
      "outputs": []
    }
  ]
}