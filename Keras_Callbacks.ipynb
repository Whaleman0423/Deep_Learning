{
  "nbformat": 4,
  "nbformat_minor": 0,
  "metadata": {
    "colab": {
      "name": "Keras_Callbacks.ipynb",
      "provenance": [],
      "collapsed_sections": [],
      "authorship_tag": "ABX9TyMKfYLynX5Jp5i1WvMkkEvR",
      "include_colab_link": true
    },
    "kernelspec": {
      "name": "python3",
      "display_name": "Python 3"
    },
    "language_info": {
      "name": "python"
    }
  },
  "cells": [
    {
      "cell_type": "markdown",
      "metadata": {
        "id": "view-in-github",
        "colab_type": "text"
      },
      "source": [
        "<a href=\"https://colab.research.google.com/github/Whaleman0423/Deep_Learning_model/blob/main/Keras_Callbacks.ipynb\" target=\"_parent\"><img src=\"https://colab.research.google.com/assets/colab-badge.svg\" alt=\"Open In Colab\"/></a>"
      ]
    },
    {
      "cell_type": "code",
      "metadata": {
        "id": "GyKUC6WqDcUQ"
      },
      "source": [
        "from tensorflow import keras"
      ],
      "execution_count": 1,
      "outputs": []
    },
    {
      "cell_type": "markdown",
      "metadata": {
        "id": "XGnqnUouD_vu"
      },
      "source": [
        "### monitor : Quantity to be monitored.\n",
        "### patience : Number of epochs with  no improvement after which training will be stopped."
      ]
    },
    {
      "cell_type": "code",
      "metadata": {
        "colab": {
          "base_uri": "https://localhost:8080/"
        },
        "id": "jm6KUY7oDwaU",
        "outputId": "b72a9a70-d771-4b1a-a339-08cb9e268211"
      },
      "source": [
        "keras.callbacks.EarlyStopping(patience=5, monitor='val_loss')"
      ],
      "execution_count": 2,
      "outputs": [
        {
          "output_type": "execute_result",
          "data": {
            "text/plain": [
              "<keras.callbacks.EarlyStopping at 0x7f27084951d0>"
            ]
          },
          "metadata": {},
          "execution_count": 2
        }
      ]
    },
    {
      "cell_type": "code",
      "metadata": {
        "colab": {
          "base_uri": "https://localhost:8080/"
        },
        "id": "GjQiaQolEqi-",
        "outputId": "265d1be8-000a-46b0-c8e0-0e7ca4430f07"
      },
      "source": [
        "# Save best \n",
        "keras.callbacks.ModelCheckpoint(\n",
        "            filepath='model.h5',\n",
        "            save_best_only=True,\n",
        "            save_weights_only=False\n",
        ")\n",
        "# Save last\n",
        "keras.callbacks.ModelCheckpoint(\n",
        "            filepath=\"last.h5\",\n",
        "            save_best_only=False,\n",
        "            save_weights_only=False\n",
        ")"
      ],
      "execution_count": 3,
      "outputs": [
        {
          "output_type": "execute_result",
          "data": {
            "text/plain": [
              "<keras.callbacks.ModelCheckpoint at 0x7f27084330d0>"
            ]
          },
          "metadata": {},
          "execution_count": 3
        }
      ]
    },
    {
      "cell_type": "code",
      "metadata": {
        "colab": {
          "base_uri": "https://localhost:8080/"
        },
        "id": "_X7nXHe-FcZt",
        "outputId": "7a1892a3-421d-4113-c0d9-595973e4f9aa"
      },
      "source": [
        "# Save logs\n",
        "keras.callbacks.CSVLogger('logs.csv')"
      ],
      "execution_count": 4,
      "outputs": [
        {
          "output_type": "execute_result",
          "data": {
            "text/plain": [
              "<keras.callbacks.CSVLogger at 0x7f270849dcd0>"
            ]
          },
          "metadata": {},
          "execution_count": 4
        }
      ]
    },
    {
      "cell_type": "code",
      "metadata": {
        "colab": {
          "base_uri": "https://localhost:8080/"
        },
        "id": "uRcGj5iOFu7a",
        "outputId": "3cf698d2-d036-41d2-d76c-54ee1a211352"
      },
      "source": [
        "# Reduce Learning Rate\n",
        "keras.callbacks.ReduceLROnPlateau(\n",
        "                  monitoe=\"val_loss\",\n",
        "                  factor=0.2,\n",
        "                  patience=5,\n",
        "                  min_lr=0.001\n",
        ")\n",
        "# Customize Learning Rate\n",
        "def scheduler(epoch, lr):\n",
        "  if epoch < 10:\n",
        "    return lr\n",
        "  else:\n",
        "    return lr * 0.99\n",
        "keras.callbacks.LearningRateScheduler(scheduler)"
      ],
      "execution_count": 5,
      "outputs": [
        {
          "output_type": "execute_result",
          "data": {
            "text/plain": [
              "<keras.callbacks.LearningRateScheduler at 0x7f27083f8b10>"
            ]
          },
          "metadata": {},
          "execution_count": 5
        }
      ]
    },
    {
      "cell_type": "code",
      "metadata": {
        "id": "TniHPzQkGsDm"
      },
      "source": [
        "(x_train, y_train), (x_val, y_val) = keras.datasets.cifar10.load_data()"
      ],
      "execution_count": 7,
      "outputs": []
    },
    {
      "cell_type": "code",
      "metadata": {
        "id": "pBIT-lEjG5O7"
      },
      "source": [
        "x_train = x_train / 255.\n",
        "x_val = x_val / 255.\n",
        "y_train = keras.utils.to_categorical(y_train, num_classes=10)\n",
        "y_val = keras.utils.to_categorical(y_val, num_classes=10)"
      ],
      "execution_count": 8,
      "outputs": []
    },
    {
      "cell_type": "code",
      "metadata": {
        "id": "BWf7iDCIHjaA"
      },
      "source": [
        "model = keras.models.Sequential([\n",
        "                  keras.layers.Input((32, 32, 3)),\n",
        "                  keras.layers.Conv2D(16, 3, activation='relu'),\n",
        "                  keras.layers.Flatten(),\n",
        "                  keras.layers.Dense(10, activation='softmax')\n",
        "])"
      ],
      "execution_count": 9,
      "outputs": []
    },
    {
      "cell_type": "code",
      "metadata": {
        "id": "vYeaRhXzIHO2"
      },
      "source": [
        "model.compile(\n",
        "        loss = keras.loss.ca\n",
        ")"
      ],
      "execution_count": null,
      "outputs": []
    }
  ]
}