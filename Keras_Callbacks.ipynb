{
  "nbformat": 4,
  "nbformat_minor": 0,
  "metadata": {
    "colab": {
      "name": "Keras_Callbacks.ipynb",
      "provenance": [],
      "collapsed_sections": [],
      "authorship_tag": "ABX9TyNHbaSJudCqz2C2nUUM4n1Q",
      "include_colab_link": true
    },
    "kernelspec": {
      "name": "python3",
      "display_name": "Python 3"
    },
    "language_info": {
      "name": "python"
    }
  },
  "cells": [
    {
      "cell_type": "markdown",
      "metadata": {
        "id": "view-in-github",
        "colab_type": "text"
      },
      "source": [
        "<a href=\"https://colab.research.google.com/github/Whaleman0423/Deep_Learning_model/blob/main/Keras_Callbacks.ipynb\" target=\"_parent\"><img src=\"https://colab.research.google.com/assets/colab-badge.svg\" alt=\"Open In Colab\"/></a>"
      ]
    },
    {
      "cell_type": "code",
      "metadata": {
        "id": "GyKUC6WqDcUQ"
      },
      "source": [
        "from tensorflow import keras"
      ],
      "execution_count": 1,
      "outputs": []
    },
    {
      "cell_type": "markdown",
      "metadata": {
        "id": "XGnqnUouD_vu"
      },
      "source": [
        "### monitor : Quantity to be monitored.\n",
        "### patience : Number of epochs with  no improvement after which training will be stopped."
      ]
    },
    {
      "cell_type": "code",
      "metadata": {
        "colab": {
          "base_uri": "https://localhost:8080/"
        },
        "id": "jm6KUY7oDwaU",
        "outputId": "643028d7-745f-43c7-c300-32d882ceafde"
      },
      "source": [
        "keras.callbacks.EarlyStopping(patience=5, monitor='val_loss')"
      ],
      "execution_count": 2,
      "outputs": [
        {
          "output_type": "execute_result",
          "data": {
            "text/plain": [
              "<keras.callbacks.EarlyStopping at 0x7fc8674e8190>"
            ]
          },
          "metadata": {},
          "execution_count": 2
        }
      ]
    },
    {
      "cell_type": "code",
      "metadata": {
        "colab": {
          "base_uri": "https://localhost:8080/"
        },
        "id": "GjQiaQolEqi-",
        "outputId": "a308da87-2ca5-44b5-ecb4-099189cb6c01"
      },
      "source": [
        "# Save best \n",
        "keras.callbacks.ModelCheckpoint(\n",
        "            filepath='model.h5',\n",
        "            save_best_only=True,\n",
        "            save_weights_only=False\n",
        ")\n",
        "# Save last\n",
        "keras.callbacks.ModelCheckpoint(\n",
        "            filepath=\"last.h5\",\n",
        "            save_best_only=False,\n",
        "            save_weights_only=False\n",
        ")"
      ],
      "execution_count": 3,
      "outputs": [
        {
          "output_type": "execute_result",
          "data": {
            "text/plain": [
              "<keras.callbacks.ModelCheckpoint at 0x7fc814c45810>"
            ]
          },
          "metadata": {},
          "execution_count": 3
        }
      ]
    },
    {
      "cell_type": "code",
      "metadata": {
        "colab": {
          "base_uri": "https://localhost:8080/"
        },
        "id": "_X7nXHe-FcZt",
        "outputId": "e8fa9c8d-2533-490b-868f-b715f95c7d12"
      },
      "source": [
        "# Save logs\n",
        "keras.callbacks.CSVLogger('logs.csv')"
      ],
      "execution_count": 4,
      "outputs": [
        {
          "output_type": "execute_result",
          "data": {
            "text/plain": [
              "<keras.callbacks.CSVLogger at 0x7fc814c45b50>"
            ]
          },
          "metadata": {},
          "execution_count": 4
        }
      ]
    },
    {
      "cell_type": "code",
      "metadata": {
        "colab": {
          "base_uri": "https://localhost:8080/"
        },
        "id": "uRcGj5iOFu7a",
        "outputId": "d19168b4-5d08-47c7-9fab-b0aef132bcdd"
      },
      "source": [
        "# Reduce Learning Rate\n",
        "keras.callbacks.ReduceLROnPlateau(\n",
        "                  monitoe=\"val_loss\",\n",
        "                  factor=0.2,\n",
        "                  patience=5,\n",
        "                  min_lr=0.001\n",
        ")\n",
        "# Customize Learning Rate\n",
        "def scheduler(epoch, lr):\n",
        "  if epoch < 10:\n",
        "    return lr\n",
        "  else:\n",
        "    return lr * 0.99\n",
        "keras.callbacks.LearningRateScheduler(scheduler)"
      ],
      "execution_count": 5,
      "outputs": [
        {
          "output_type": "execute_result",
          "data": {
            "text/plain": [
              "<keras.callbacks.LearningRateScheduler at 0x7fc814c51b90>"
            ]
          },
          "metadata": {},
          "execution_count": 5
        }
      ]
    },
    {
      "cell_type": "code",
      "metadata": {
        "id": "TniHPzQkGsDm",
        "outputId": "89bab73d-d673-4551-ea08-c6c3492d9b91",
        "colab": {
          "base_uri": "https://localhost:8080/"
        }
      },
      "source": [
        "(x_train, y_train), (x_val, y_val) = keras.datasets.cifar10.load_data()"
      ],
      "execution_count": 6,
      "outputs": [
        {
          "output_type": "stream",
          "name": "stdout",
          "text": [
            "Downloading data from https://www.cs.toronto.edu/~kriz/cifar-10-python.tar.gz\n",
            "170500096/170498071 [==============================] - 3s 0us/step\n",
            "170508288/170498071 [==============================] - 3s 0us/step\n"
          ]
        }
      ]
    },
    {
      "cell_type": "code",
      "metadata": {
        "id": "pBIT-lEjG5O7"
      },
      "source": [
        "x_train = x_train / 255.\n",
        "x_val = x_val / 255.\n",
        "y_train = keras.utils.to_categorical(y_train, num_classes=10)\n",
        "y_val = keras.utils.to_categorical(y_val, num_classes=10)"
      ],
      "execution_count": 7,
      "outputs": []
    },
    {
      "cell_type": "code",
      "metadata": {
        "id": "BWf7iDCIHjaA"
      },
      "source": [
        "model = keras.models.Sequential([\n",
        "                  keras.layers.Input((32, 32, 3)),\n",
        "                  keras.layers.Conv2D(16, 3, activation='relu'),\n",
        "                  keras.layers.Flatten(),\n",
        "                  keras.layers.Dense(10, activation='softmax')\n",
        "])"
      ],
      "execution_count": 8,
      "outputs": []
    },
    {
      "cell_type": "code",
      "metadata": {
        "id": "vYeaRhXzIHO2"
      },
      "source": [
        "model.compile(\n",
        "        loss = keras.losses.categorical_crossentropy,\n",
        "        metrics = [keras.metrics.categorical_accuracy]\n",
        ")"
      ],
      "execution_count": 10,
      "outputs": []
    },
    {
      "cell_type": "code",
      "metadata": {
        "id": "WUorm3qS8ooe",
        "outputId": "f1e430e3-6137-4fc7-d962-0c474c880cfb",
        "colab": {
          "base_uri": "https://localhost:8080/"
        }
      },
      "source": [
        "callbacks = [\n",
        "             keras.callbacks.CSVLogger('logs.csv'),\n",
        "             keras.callbacks.EarlyStopping(patience=3, monitor='val_loss'),\n",
        "             keras.callbacks.ModelCheckpoint(filepath='model.h5', save_best_only=True, save_weights_only=False),\n",
        "             keras.callbacks.ModelCheckpoint(filepath='last.h5', save_best_only=False, save_weights_only=False),\n",
        "             keras.callbacks.ReduceLROnPlateau(monitor='val_loss', factor=0.2, patience=5)\n",
        "]\n",
        "\n",
        "model.fit(x_train, y_train,\n",
        "          batch_size=128,\n",
        "          epochs=999,\n",
        "          validation_data=(x_val, y_val),\n",
        "          callbacks=callbacks)"
      ],
      "execution_count": 11,
      "outputs": [
        {
          "output_type": "stream",
          "name": "stdout",
          "text": [
            "Epoch 1/999\n",
            "391/391 [==============================] - 17s 41ms/step - loss: 1.6561 - categorical_accuracy: 0.4224 - val_loss: 1.4663 - val_categorical_accuracy: 0.4685\n",
            "Epoch 2/999\n",
            "391/391 [==============================] - 16s 41ms/step - loss: 1.3624 - categorical_accuracy: 0.5254 - val_loss: 1.3335 - val_categorical_accuracy: 0.5313\n",
            "Epoch 3/999\n",
            "391/391 [==============================] - 16s 42ms/step - loss: 1.2679 - categorical_accuracy: 0.5595 - val_loss: 1.3144 - val_categorical_accuracy: 0.5388\n",
            "Epoch 4/999\n",
            "391/391 [==============================] - 16s 42ms/step - loss: 1.2031 - categorical_accuracy: 0.5837 - val_loss: 1.2810 - val_categorical_accuracy: 0.5490\n",
            "Epoch 5/999\n",
            "391/391 [==============================] - 16s 42ms/step - loss: 1.1536 - categorical_accuracy: 0.6020 - val_loss: 1.2500 - val_categorical_accuracy: 0.5657\n",
            "Epoch 6/999\n",
            "391/391 [==============================] - 16s 42ms/step - loss: 1.1127 - categorical_accuracy: 0.6187 - val_loss: 1.2370 - val_categorical_accuracy: 0.5658\n",
            "Epoch 7/999\n",
            "391/391 [==============================] - 16s 42ms/step - loss: 1.0791 - categorical_accuracy: 0.6292 - val_loss: 1.2870 - val_categorical_accuracy: 0.5548\n",
            "Epoch 8/999\n",
            "391/391 [==============================] - 16s 42ms/step - loss: 1.0514 - categorical_accuracy: 0.6391 - val_loss: 1.2614 - val_categorical_accuracy: 0.5647\n",
            "Epoch 9/999\n",
            "391/391 [==============================] - 16s 41ms/step - loss: 1.0252 - categorical_accuracy: 0.6494 - val_loss: 1.2062 - val_categorical_accuracy: 0.5810\n",
            "Epoch 10/999\n",
            "391/391 [==============================] - 16s 41ms/step - loss: 1.0035 - categorical_accuracy: 0.6555 - val_loss: 1.2185 - val_categorical_accuracy: 0.5799\n",
            "Epoch 11/999\n",
            "391/391 [==============================] - 16s 42ms/step - loss: 0.9826 - categorical_accuracy: 0.6627 - val_loss: 1.2326 - val_categorical_accuracy: 0.5663\n",
            "Epoch 12/999\n",
            "391/391 [==============================] - 16s 41ms/step - loss: 0.9653 - categorical_accuracy: 0.6695 - val_loss: 1.2231 - val_categorical_accuracy: 0.5735\n"
          ]
        },
        {
          "output_type": "execute_result",
          "data": {
            "text/plain": [
              "<keras.callbacks.History at 0x7fc80c8b99d0>"
            ]
          },
          "metadata": {},
          "execution_count": 11
        }
      ]
    },
    {
      "cell_type": "code",
      "metadata": {
        "id": "C75jObzQ-YbE"
      },
      "source": [
        "model2 = keras.models.load_model('model.h5')"
      ],
      "execution_count": 12,
      "outputs": []
    },
    {
      "cell_type": "code",
      "metadata": {
        "id": "lQ6eQn4i-ecF",
        "outputId": "534718ba-6f4e-43d2-bbf1-811e29b39d4d",
        "colab": {
          "base_uri": "https://localhost:8080/"
        }
      },
      "source": [
        "model2.evaluate(x_val, y_val)"
      ],
      "execution_count": 13,
      "outputs": [
        {
          "output_type": "stream",
          "name": "stdout",
          "text": [
            "313/313 [==============================] - 2s 5ms/step - loss: 1.2062 - categorical_accuracy: 0.5810\n"
          ]
        },
        {
          "output_type": "execute_result",
          "data": {
            "text/plain": [
              "[1.206239104270935, 0.5809999704360962]"
            ]
          },
          "metadata": {},
          "execution_count": 13
        }
      ]
    }
  ]
}