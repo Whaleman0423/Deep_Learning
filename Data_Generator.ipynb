{
  "nbformat": 4,
  "nbformat_minor": 0,
  "metadata": {
    "colab": {
      "name": "Data_Generator.ipynb",
      "provenance": [],
      "authorship_tag": "ABX9TyOlBWsUHphRzG+TXrnklQM2",
      "include_colab_link": true
    },
    "kernelspec": {
      "name": "python3",
      "display_name": "Python 3"
    },
    "language_info": {
      "name": "python"
    }
  },
  "cells": [
    {
      "cell_type": "markdown",
      "metadata": {
        "id": "view-in-github",
        "colab_type": "text"
      },
      "source": [
        "<a href=\"https://colab.research.google.com/github/Whaleman0423/Deep_Learning_model/blob/main/Data_Generator.ipynb\" target=\"_parent\"><img src=\"https://colab.research.google.com/assets/colab-badge.svg\" alt=\"Open In Colab\"/></a>"
      ]
    },
    {
      "cell_type": "code",
      "metadata": {
        "colab": {
          "base_uri": "https://localhost:8080/"
        },
        "id": "vXMtudXjLlqc",
        "outputId": "f1d8c768-7f89-4fd5-cad1-d6a72846ded4"
      },
      "source": [
        "# download dataset from https://drive.google.com/file/d/12iinuMZkaZOZGXlkPsUnmETaE-cMlyHu/view?usp=sharing\n",
        "!gdown --id 12iinuMZkaZOZGXlkPsUnmETaE-cMlyHu --output defect.zip"
      ],
      "execution_count": 1,
      "outputs": [
        {
          "output_type": "stream",
          "name": "stdout",
          "text": [
            "Downloading...\n",
            "From: https://drive.google.com/uc?id=12iinuMZkaZOZGXlkPsUnmETaE-cMlyHu\n",
            "To: /content/defect.zip\n",
            "100% 53.2M/53.2M [00:00<00:00, 101MB/s] \n"
          ]
        }
      ]
    },
    {
      "cell_type": "code",
      "metadata": {
        "id": "cJukyKzzMNSw"
      },
      "source": [
        "!unzip -q defect.zip"
      ],
      "execution_count": 2,
      "outputs": []
    },
    {
      "cell_type": "code",
      "metadata": {
        "id": "xRgyZipNMUf_"
      },
      "source": [
        "import tensorflow as tf\n",
        "import cv2\n",
        "import numpy as np\n",
        "from glob import glob\n",
        "from sklearn.model_selection import train_test_split"
      ],
      "execution_count": 3,
      "outputs": []
    },
    {
      "cell_type": "code",
      "metadata": {
        "id": "xIjN9qm8MmGA",
        "outputId": "f255223a-4808-4a71-a457-991c82058eb2",
        "colab": {
          "base_uri": "https://localhost:8080/",
          "height": 131
        }
      },
      "source": [
        "class DataGenerator(tf.keras.utils.Sequence):\n",
        "  def __init__(self, img_paths, batch_size, img_size, shuffle=True, aug=False):\n",
        "    self.img_paths = img_paths\n",
        "    self.batch_size = batch_size\n",
        "    self.img_size = img_size\n",
        "    self.shuffle = shuffle\n",
        "    self.aug = aug\n",
        "\n",
        "    self.indexes = np.arange(len(self.img_paths)) # [0, 1, 2, 3, ...]\n",
        "    self.on_epoch_end()\n",
        "\n",
        "  def __len__(self):\n",
        "    return int(np.ceil(len(self.img_paths) / self.batch_size)) # batches per epoch\n",
        "  def __getitem"
      ],
      "execution_count": 4,
      "outputs": [
        {
          "output_type": "error",
          "ename": "SyntaxError",
          "evalue": "ignored",
          "traceback": [
            "\u001b[0;36m  File \u001b[0;32m\"<ipython-input-4-c14ac36b7d2e>\"\u001b[0;36m, line \u001b[0;32m1\u001b[0m\n\u001b[0;31m    class DataGenerator(tf.keras.utils.Sequence):\u001b[0m\n\u001b[0m                                                 ^\u001b[0m\n\u001b[0;31mSyntaxError\u001b[0m\u001b[0;31m:\u001b[0m unexpected EOF while parsing\n"
          ]
        }
      ]
    }
  ]
}