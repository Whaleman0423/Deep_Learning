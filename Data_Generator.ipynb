{
  "nbformat": 4,
  "nbformat_minor": 0,
  "metadata": {
    "colab": {
      "name": "Data_Generator.ipynb",
      "provenance": [],
      "authorship_tag": "ABX9TyNpbF3qE4nZ+0RMRcA8fSBa",
      "include_colab_link": true
    },
    "kernelspec": {
      "name": "python3",
      "display_name": "Python 3"
    },
    "language_info": {
      "name": "python"
    }
  },
  "cells": [
    {
      "cell_type": "markdown",
      "metadata": {
        "id": "view-in-github",
        "colab_type": "text"
      },
      "source": [
        "<a href=\"https://colab.research.google.com/github/Whaleman0423/Deep_Learning_model/blob/main/Data_Generator.ipynb\" target=\"_parent\"><img src=\"https://colab.research.google.com/assets/colab-badge.svg\" alt=\"Open In Colab\"/></a>"
      ]
    },
    {
      "cell_type": "code",
      "metadata": {
        "colab": {
          "base_uri": "https://localhost:8080/"
        },
        "id": "vXMtudXjLlqc",
        "outputId": "c71ec827-b25d-40ce-b1a0-e2619a3101bd"
      },
      "source": [
        "# download dataset from https://drive.google.com/file/d/12iinuMZkaZOZGXlkPsUnmETaE-cMlyHu/view?usp=sharing\n",
        "!gdown --id 12iinuMZkaZOZGXlkPsUnmETaE-cMlyHu --output defect.zip"
      ],
      "execution_count": 1,
      "outputs": [
        {
          "output_type": "stream",
          "name": "stdout",
          "text": [
            "Downloading...\n",
            "From: https://drive.google.com/uc?id=12iinuMZkaZOZGXlkPsUnmETaE-cMlyHu\n",
            "To: /content/defect.zip\n",
            "100% 53.2M/53.2M [00:00<00:00, 146MB/s] \n"
          ]
        }
      ]
    },
    {
      "cell_type": "code",
      "metadata": {
        "id": "cJukyKzzMNSw"
      },
      "source": [
        "!unzip -q defect.zip"
      ],
      "execution_count": 2,
      "outputs": []
    },
    {
      "cell_type": "code",
      "metadata": {
        "id": "xRgyZipNMUf_"
      },
      "source": [
        "import tensorflow as tf\n",
        "import cv2\n",
        "import numpy as np\n",
        "from glob import glob\n",
        "from sklearn.model_selection import train_test_split"
      ],
      "execution_count": 3,
      "outputs": []
    },
    {
      "cell_type": "code",
      "metadata": {
        "id": "xIjN9qm8MmGA"
      },
      "source": [
        "class DataGenerator(tf.keras.utils.Sequence):"
      ],
      "execution_count": null,
      "outputs": []
    }
  ]
}